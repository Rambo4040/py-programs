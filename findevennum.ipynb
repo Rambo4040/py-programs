{
 "cells": [
  {
   "cell_type": "code",
   "execution_count": null,
   "id": "08133511-8cef-4bfe-8a63-ac7f00ab5132",
   "metadata": {},
   "outputs": [],
   "source": [
    "def find():\n",
    "    list1 = [6,10,12,14,20,22]\n",
    "    list3 = []\n",
    "    for i in range (list1[0],list1[-1],2):\n",
    "        list2 = i\n",
    "        list3.append(list2)\n",
    "    print(\"The given list is :\", list1)\n",
    "    temp = []\n",
    "    for num in list3:\n",
    "        if num not in list1:\n",
    "            temp.append(num)\n",
    "    return temp    \n",
    "    \n",
    "numfind=find()\n",
    "print(\"Even numbers not in given list are:\", numfind)"
   ]
  }
 ],
 "metadata": {
  "kernelspec": {
   "display_name": "Python 3 (ipykernel)",
   "language": "python",
   "name": "python3"
  },
  "language_info": {
   "codemirror_mode": {
    "name": "ipython",
    "version": 3
   },
   "file_extension": ".py",
   "mimetype": "text/x-python",
   "name": "python",
   "nbconvert_exporter": "python",
   "pygments_lexer": "ipython3",
   "version": "3.11.7"
  }
 },
 "nbformat": 4,
 "nbformat_minor": 5
}

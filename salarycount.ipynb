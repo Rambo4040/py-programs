{
 "cells": [
  {
   "cell_type": "code",
   "execution_count": null,
   "id": "e6c1139b-6ea9-45d6-85ef-ad47af43adea",
   "metadata": {},
   "outputs": [],
   "source": [
    "def interestmonth():\n",
    "    amount=600000\n",
    "    rate=6\n",
    "    year=5\n",
    "    simpint = (amount*rate*year)/100\n",
    "    print(simpint)\n",
    "    loandeduction = amount+simpint\n",
    "    monthlydeduction = loandeduction/(5*12)\n",
    "    return monthlydeduction\n",
    "    \n",
    "def salary(bp,hra,da,pf):\n",
    "    salary1 = bp + hra + da -pf -200 - interestmonth()\n",
    "    print(\"Monthly salary:\", salary1)\n",
    "    \n",
    "salary(40000,10000,10000,1800)"
   ]
  }
 ],
 "metadata": {
  "kernelspec": {
   "display_name": "Python 3 (ipykernel)",
   "language": "python",
   "name": "python3"
  },
  "language_info": {
   "codemirror_mode": {
    "name": "ipython",
    "version": 3
   },
   "file_extension": ".py",
   "mimetype": "text/x-python",
   "name": "python",
   "nbconvert_exporter": "python",
   "pygments_lexer": "ipython3",
   "version": "3.11.7"
  }
 },
 "nbformat": 4,
 "nbformat_minor": 5
}

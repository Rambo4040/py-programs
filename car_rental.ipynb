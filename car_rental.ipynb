{
 "cells": [
  {
   "cell_type": "code",
   "execution_count": 13,
   "id": "be9f2891-ec68-4cba-acaf-bb7effec702b",
   "metadata": {},
   "outputs": [
    {
     "name": "stdout",
     "output_type": "stream",
     "text": [
      "\n",
      "Welcome to the Car Rental System:\n",
      "1. Display available cars\n",
      "2. Rent a car\n",
      "3. Exit\n"
     ]
    },
    {
     "name": "stdin",
     "output_type": "stream",
     "text": [
      "Enter your choice:  1\n"
     ]
    },
    {
     "name": "stdout",
     "output_type": "stream",
     "text": [
      "Available Cars:\n",
      "a: Porsche 911 GT3 RS, ₹10500 per hour\n",
      "b: Hennessey Venom F5, ₹8000 per hour\n",
      "c: NanoMcLaren 720S, ₹9500 per hour\n",
      "d: Porsche 918 Spyder, ₹9000 per hour\n",
      "e: Koenigsegg Jesko, ₹15000 per hour\n",
      "\n",
      "Welcome to the Car Rental System:\n",
      "1. Display available cars\n",
      "2. Rent a car\n",
      "3. Exit\n"
     ]
    },
    {
     "name": "stdin",
     "output_type": "stream",
     "text": [
      "Enter your choice:  2\n"
     ]
    },
    {
     "name": "stdout",
     "output_type": "stream",
     "text": [
      "Available Cars:\n",
      "a: Porsche 911 GT3 RS, ₹10500 per hour\n",
      "b: Hennessey Venom F5, ₹8000 per hour\n",
      "c: NanoMcLaren 720S, ₹9500 per hour\n",
      "d: Porsche 918 Spyder, ₹9000 per hour\n",
      "e: Koenigsegg Jesko, ₹15000 per hour\n"
     ]
    },
    {
     "name": "stdin",
     "output_type": "stream",
     "text": [
      "Enter the choice of car you want to rent:  e\n",
      "Enter the number of hours you want to rent the car for:  24\n"
     ]
    },
    {
     "name": "stdout",
     "output_type": "stream",
     "text": [
      "Successfully rented Koenigsegg Jesko for 24 hours.\n",
      "Total cost: ₹360000\n",
      "\n",
      "Welcome to the Car Rental System:\n",
      "1. Display available cars\n",
      "2. Rent a car\n",
      "3. Exit\n"
     ]
    },
    {
     "name": "stdin",
     "output_type": "stream",
     "text": [
      "Enter your choice:  3\n"
     ]
    },
    {
     "name": "stdout",
     "output_type": "stream",
     "text": [
      "Thank you for using the Car Rental System. Visit again!!\n"
     ]
    }
   ],
   "source": [
    "### class Car:\n",
    "def __init__(self, name, per_hour_rent, status):\n",
    "        self.name = name\n",
    "        self.per_hour_rent = per_hour_rent\n",
    "        self.status = status\n",
    "\n",
    "class CarRentalSystem:\n",
    "    def __init__(self):\n",
    "        self.cars = {\n",
    "            \"a\": Car(\"Porsche 911 GT3 RS\", 10500, \"AVAILABLE\"),\n",
    "            \"b\": Car(\"Hennessey Venom F5\", 8000, \"AVAILABLE\"),\n",
    "            \"c\": Car(\"NanoMcLaren 720S\", 9500, \"AVAILABLE\"),\n",
    "            \"d\": Car(\"Porsche 918 Spyder\", 9000, \"AVAILABLE\"),\n",
    "            \"e\": Car(\"Koenigsegg Jesko\", 15000, \"AVAILABLE\")\n",
    "        }\n",
    "\n",
    "    def display_available_cars(self):\n",
    "        print(\"Available Cars:\")\n",
    "        for car_name, car in self.cars.items():\n",
    "            if car.status == \"AVAILABLE\":\n",
    "                print(f\"{car_name}: {car.name}, ₹{car.per_hour_rent} per hour\")\n",
    "                    \n",
    "\n",
    "    def rent_car(self, car_name, hours):\n",
    "        if car_name in self.cars:\n",
    "            car = self.cars[car_name]\n",
    "            if car.status == \"AVAILABLE\":\n",
    "                total_cost = car.per_hour_rent * hours\n",
    "                car.status = \"RENTED\"\n",
    "                print(f\"Successfully rented {car.name} for {hours} hours.\")\n",
    "                print(f\"Total cost: ₹{total_cost}\")\n",
    "            else:\n",
    "                print(f\"Sorry, {car.name} is not available for rent.\")\n",
    "        else:\n",
    "            print(\"Invalid car name.\")\n",
    "\n",
    "def main():\n",
    "    rental_system = CarRentalSystem()\n",
    "\n",
    "    while True:\n",
    "        print(\"\\nWelcome to the Car Rental System:\")\n",
    "        print(\"1. Display available cars\")\n",
    "        print(\"2. Rent a car\")\n",
    "        print(\"3. Exit\")\n",
    "\n",
    "        choice = input(\"Enter your choice: \")\n",
    "\n",
    "        if choice == \"1\":\n",
    "            rental_system.display_available_cars()\n",
    "        elif choice == \"2\":\n",
    "            rental_system.display_available_cars()\n",
    "            car_name = input(\"Enter the choice of car you want to rent: \")\n",
    "            hours = int(input(\"Enter the number of hours you want to rent the car for: \"))\n",
    "            rental_system.rent_car(car_name, hours)\n",
    "        elif choice == \"3\":\n",
    "            print(\"Thank you for using the Car Rental System. Visit again!!\")\n",
    "            break\n",
    "        else:\n",
    "            print(\"Invalid choice. Please try again.\")\n",
    "\n",
    "\n",
    "main()"
   ]
  },
  {
   "cell_type": "code",
   "execution_count": null,
   "id": "4dc92e60-a42f-466e-86b9-7dc01b278682",
   "metadata": {},
   "outputs": [],
   "source": []
  }
 ],
 "metadata": {
  "kernelspec": {
   "display_name": "Python 3 (ipykernel)",
   "language": "python",
   "name": "python3"
  },
  "language_info": {
   "codemirror_mode": {
    "name": "ipython",
    "version": 3
   },
   "file_extension": ".py",
   "mimetype": "text/x-python",
   "name": "python",
   "nbconvert_exporter": "python",
   "pygments_lexer": "ipython3",
   "version": "3.11.7"
  }
 },
 "nbformat": 4,
 "nbformat_minor": 5
}
